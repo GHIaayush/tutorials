{
 "cells": [
  {
   "cell_type": "code",
   "execution_count": 1,
   "metadata": {},
   "outputs": [
    {
     "name": "stdout",
     "output_type": "stream",
     "text": [
      "Requirement already satisfied: nltk in /usr/local/lib/python3.7/site-packages (3.4.5)\n",
      "Requirement already satisfied: six in /usr/local/lib/python3.7/site-packages (from nltk) (1.12.0)\n",
      "\u001b[33mWARNING: You are using pip version 19.2.3, however version 19.3.1 is available.\n",
      "You should consider upgrading via the 'pip install --upgrade pip' command.\u001b[0m\n"
     ]
    }
   ],
   "source": [
    "!pip install nltk"
   ]
  },
  {
   "cell_type": "code",
   "execution_count": 2,
   "metadata": {},
   "outputs": [],
   "source": [
    "from nltk import CFG, ChartParser\n",
    "from nltk.treeprettyprinter import TreePrettyPrinter\n",
    "import re\n",
    "\n",
    "import json"
   ]
  },
  {
   "cell_type": "markdown",
   "metadata": {},
   "source": [
    "# [Production rules](https://en.wikipedia.org/wiki/Production_(computer_science))"
   ]
  },
  {
   "cell_type": "code",
   "execution_count": 3,
   "metadata": {},
   "outputs": [],
   "source": [
    "production_rules = \"\"\"\n",
    "# CFG that derives \"some cats are mysterious\"\n",
    "\n",
    "S   -> DP VP\n",
    "\n",
    "# Determiner Phrase\n",
    "DP   -> Det NP\n",
    "DP   -> NP\n",
    "\n",
    "# Noun Phrase\n",
    "NP   -> N\n",
    "\n",
    "# Verb Phrase\n",
    "VP   -> V\n",
    "VP   -> V AP\n",
    "\n",
    "# Adjective Phrase\n",
    "AP   -> A\n",
    "\n",
    "# NOTE: terminals *must* be quoted!\n",
    "V    -> \"is\"\n",
    "V    -> \"are\"\n",
    "\n",
    "Det  -> \"the\"\n",
    "# we can use | for disjunctions\n",
    "Det  -> \"an\" | \"a\"\n",
    "Det  -> \"some\" | \"any\" | \"every\" | \"all\"\n",
    "\n",
    "N    -> \"cat\" | \"cats\"\n",
    "\n",
    "A    -> \"mysterious\"\n",
    "\"\"\""
   ]
  },
  {
   "cell_type": "markdown",
   "metadata": {},
   "source": [
    "# Chart parsing"
   ]
  },
  {
   "cell_type": "code",
   "execution_count": 4,
   "metadata": {},
   "outputs": [],
   "source": [
    "cfg = CFG.fromstring(production_rules)"
   ]
  },
  {
   "cell_type": "code",
   "execution_count": 5,
   "metadata": {},
   "outputs": [
    {
     "data": {
      "text/plain": [
       "[S -> DP VP,\n",
       " DP -> Det NP,\n",
       " DP -> NP,\n",
       " NP -> N,\n",
       " VP -> V,\n",
       " VP -> V AP,\n",
       " AP -> A,\n",
       " V -> 'is',\n",
       " V -> 'are',\n",
       " Det -> 'the',\n",
       " Det -> 'an',\n",
       " Det -> 'a',\n",
       " Det -> 'some',\n",
       " Det -> 'any',\n",
       " Det -> 'every',\n",
       " Det -> 'all',\n",
       " N -> 'cat',\n",
       " N -> 'cats',\n",
       " A -> 'mysterious']"
      ]
     },
     "execution_count": 5,
     "metadata": {},
     "output_type": "execute_result"
    }
   ],
   "source": [
    "cfg.productions()"
   ]
  },
  {
   "cell_type": "markdown",
   "metadata": {},
   "source": [
    "Initialize a chart parser"
   ]
  },
  {
   "cell_type": "code",
   "execution_count": 6,
   "metadata": {},
   "outputs": [],
   "source": [
    "parser = ChartParser(cfg)"
   ]
  },
  {
   "cell_type": "code",
   "execution_count": 7,
   "metadata": {},
   "outputs": [
    {
     "data": {
      "text/plain": [
       "[S -> DP VP,\n",
       " DP -> Det NP,\n",
       " DP -> NP,\n",
       " NP -> N,\n",
       " VP -> V,\n",
       " VP -> V AP,\n",
       " AP -> A,\n",
       " V -> 'is',\n",
       " V -> 'are',\n",
       " Det -> 'the',\n",
       " Det -> 'an',\n",
       " Det -> 'a',\n",
       " Det -> 'some',\n",
       " Det -> 'any',\n",
       " Det -> 'every',\n",
       " Det -> 'all',\n",
       " N -> 'cat',\n",
       " N -> 'cats',\n",
       " A -> 'mysterious']"
      ]
     },
     "execution_count": 7,
     "metadata": {},
     "output_type": "execute_result"
    }
   ],
   "source": [
    "parser.grammar().productions()"
   ]
  },
  {
   "cell_type": "code",
   "execution_count": 8,
   "metadata": {},
   "outputs": [
    {
     "name": "stdout",
     "output_type": "stream",
     "text": [
      "Production rules: [\n",
      "    \"S -> DP VP\",\n",
      "    \"DP -> Det NP\",\n",
      "    \"Det -> 'some'\",\n",
      "    \"NP -> N\",\n",
      "    \"N -> 'cats'\",\n",
      "    \"VP -> V AP\",\n",
      "    \"V -> 'are'\",\n",
      "    \"AP -> A\",\n",
      "    \"A -> 'mysterious'\"\n",
      "]\n",
      "\n",
      "               S                    \n",
      "       ________|_______              \n",
      "      DP               VP           \n",
      "  ____|___          ___|______       \n",
      " |        NP       |          AP    \n",
      " |        |        |          |      \n",
      "Det       N        V          A     \n",
      " |        |        |          |      \n",
      "some     cats     are     mysterious\n",
      "\n"
     ]
    }
   ],
   "source": [
    "sent = [\"some\", \"cats\", \"are\", \"mysterious\"]\n",
    "\n",
    "for tree in parser.parse(sent):\n",
    "    productions = [str(prod) for prod in tree.productions()]\n",
    "    print(\"Production rules: {}\\n\".format(json.dumps(productions, indent=4)))\n",
    "    tree.pretty_print()"
   ]
  },
  {
   "cell_type": "code",
   "execution_count": 9,
   "metadata": {},
   "outputs": [],
   "source": [
    "tree = next(parser.parse([\"some\", \"cats\", \"are\", \"mysterious\"]))"
   ]
  },
  {
   "cell_type": "code",
   "execution_count": 10,
   "metadata": {},
   "outputs": [
    {
     "name": "stdout",
     "output_type": "stream",
     "text": [
      " NP \n",
      " |   \n",
      " N  \n",
      " |   \n",
      "cats\n",
      "\n",
      "    AP    \n",
      "    |      \n",
      "    A     \n",
      "    |      \n",
      "mysterious\n",
      "\n"
     ]
    }
   ],
   "source": [
    "# find subtrees\n",
    "cats = [st for st in tree.subtrees() \\\n",
    "      if len(st.leaves()) == 1 \\\n",
    "      and st.leaves()[-1] == \"cats\"]\n",
    "\n",
    "cats[0].pretty_print()\n",
    "\n",
    "adjp = [st for st in tree.subtrees() if st.label() == \"AP\"]\n",
    "adjp[0].pretty_print()\n",
    "#pretty_tree = TreePrettyPrinter(tree, highlight=(st))"
   ]
  },
  {
   "cell_type": "markdown",
   "metadata": {},
   "source": [
    "### Render `nltk.Tree` using LaTeX"
   ]
  },
  {
   "cell_type": "markdown",
   "metadata": {},
   "source": [
    "#### [`qtree`](https://ctan.org/pkg/qtree) package"
   ]
  },
  {
   "cell_type": "code",
   "execution_count": 11,
   "metadata": {},
   "outputs": [
    {
     "name": "stdout",
     "output_type": "stream",
     "text": [
      "\\Tree [.S\n",
      "        [.DP [.Det some ] [.NP [.N cats ] ] ]\n",
      "        [.VP [.V are ] [.AP [.A mysterious ] ] ] ]\n"
     ]
    }
   ],
   "source": [
    "print(tree.pformat_latex_qtree())"
   ]
  },
  {
   "cell_type": "markdown",
   "metadata": {},
   "source": [
    "#### [`forest`](https://ctan.org/pkg/forest) package"
   ]
  },
  {
   "cell_type": "code",
   "execution_count": 12,
   "metadata": {},
   "outputs": [],
   "source": [
    "def to_latex_forest(tree):\n",
    "    '''\n",
    "    Converts an NLTK.Tree\n",
    "    into a format compatible with the LaTeX forest package \n",
    "    (see https://github.com/sasozivanovic/forest)\n",
    "    '''\n",
    "    res = tree.pformat_latex_qtree() \\\n",
    "           .replace(\"[.\", \"[\") \\\n",
    "           .replace(\"\\Tree\", \"\") \\\n",
    "           .replace(\"_BAR\", \"'\")\n",
    "    # format terminals\n",
    "    res = re.sub(r\"\\s([^\\s\\]\\[]+)\\s\", r\" [\\1] \", res)\n",
    "    # forest env\n",
    "    # terminal alignment solution: https://tex.stackexchange.com/a/214657\n",
    "    return f\"\"\"\n",
    "\\\\begin{{forest}}\n",
    "  for tree={{\n",
    "    font=\\scshape,\n",
    "    grow=south,\n",
    "    parent anchor=south, \n",
    "    child anchor=north,\n",
    "    if n children={{0}}{{tier=terminal, no edge}}{{}},\n",
    "  }},\n",
    "  for leaves={{font=\\itshape}}\n",
    "  {res}\n",
    "\\end{{forest}}\n",
    "\"\"\".strip()"
   ]
  },
  {
   "cell_type": "code",
   "execution_count": 13,
   "metadata": {},
   "outputs": [
    {
     "name": "stdout",
     "output_type": "stream",
     "text": [
      "\\begin{forest}\n",
      "  for tree={\n",
      "    font=\\scshape,\n",
      "    grow=south,\n",
      "    parent anchor=south, \n",
      "    child anchor=north,\n",
      "    if n children={0}{tier=terminal, no edge}{},\n",
      "  },\n",
      "  for leaves={font=\\itshape}\n",
      "   [S\n",
      "        [DP [Det [some] ] [NP [N [cats] ] ] ]\n",
      "        [VP [V [are] ] [AP [A [mysterious] ] ] ] ]\n",
      "\\end{forest}\n"
     ]
    }
   ],
   "source": [
    "print(to_latex_forest(tree))"
   ]
  },
  {
   "cell_type": "code",
   "execution_count": 14,
   "metadata": {},
   "outputs": [],
   "source": [
    "prods = tree.productions()"
   ]
  },
  {
   "cell_type": "markdown",
   "metadata": {},
   "source": [
    "## Recovering partial parses\n",
    "\n",
    "We can recover partial parses from our chart."
   ]
  },
  {
   "cell_type": "code",
   "execution_count": 15,
   "metadata": {},
   "outputs": [],
   "source": [
    "sent  = [\"cats\", \"are\", \"mysterious\"]\n",
    "chart = parser.chart_parse(sent)"
   ]
  },
  {
   "cell_type": "code",
   "execution_count": 16,
   "metadata": {},
   "outputs": [],
   "source": [
    "# get the chart as a dot (https://en.wikipedia.org/wiki/DOT_(graph_description_language))\n",
    "# !pip install graphviz\n",
    "# see https://graphviz.readthedocs.io/en/stable/manual.html#using-raw-dot\n",
    "#chart.dot_digraph()"
   ]
  },
  {
   "cell_type": "code",
   "execution_count": 17,
   "metadata": {},
   "outputs": [
    {
     "data": {
      "text/plain": [
       "[[Edge: [0:1] 'cats'],\n",
       " [Edge: [1:2] 'are'],\n",
       " [Edge: [2:3] 'mysterious'],\n",
       " [Edge: [0:1] N  -> 'cats' *],\n",
       " [Edge: [0:1] NP -> N *],\n",
       " [Edge: [0:1] DP -> NP *],\n",
       " [Edge: [0:1] S  -> DP * VP],\n",
       " [Edge: [1:2] V  -> 'are' *],\n",
       " [Edge: [1:2] VP -> V *],\n",
       " [Edge: [1:2] VP -> V * AP],\n",
       " [Edge: [0:2] S  -> DP VP *],\n",
       " [Edge: [2:3] A  -> 'mysterious' *],\n",
       " [Edge: [2:3] AP -> A *],\n",
       " [Edge: [1:3] VP -> V AP *],\n",
       " [Edge: [0:3] S  -> DP VP *]]"
      ]
     },
     "execution_count": 17,
     "metadata": {},
     "output_type": "execute_result"
    }
   ],
   "source": [
    "chart.edges()"
   ]
  },
  {
   "cell_type": "code",
   "execution_count": 18,
   "metadata": {},
   "outputs": [
    {
     "data": {
      "text/plain": [
       "[Edge: [1:3] VP -> V AP *]"
      ]
     },
     "execution_count": 18,
     "metadata": {},
     "output_type": "execute_result"
    }
   ],
   "source": [
    "tree_edge = chart.edges()[-2]\n",
    "tree_edge"
   ]
  },
  {
   "cell_type": "code",
   "execution_count": 19,
   "metadata": {},
   "outputs": [
    {
     "data": {
      "text/plain": [
       "VP"
      ]
     },
     "execution_count": 19,
     "metadata": {},
     "output_type": "execute_result"
    }
   ],
   "source": [
    "# What nonterminal does this production capture?\n",
    "tree_edge.lhs()"
   ]
  },
  {
   "cell_type": "code",
   "execution_count": 20,
   "metadata": {},
   "outputs": [
    {
     "data": {
      "text/plain": [
       "(V, AP)"
      ]
     },
     "execution_count": 20,
     "metadata": {},
     "output_type": "execute_result"
    }
   ],
   "source": [
    "# What does the nonterminal map/expand to?\n",
    "tree_edge.rhs()"
   ]
  },
  {
   "cell_type": "code",
   "execution_count": 21,
   "metadata": {},
   "outputs": [
    {
     "data": {
      "text/plain": [
       "True"
      ]
     },
     "execution_count": 21,
     "metadata": {},
     "output_type": "execute_result"
    }
   ],
   "source": [
    "tree_edge.is_complete()"
   ]
  },
  {
   "cell_type": "code",
   "execution_count": 22,
   "metadata": {},
   "outputs": [
    {
     "data": {
      "text/plain": [
       "['are', 'mysterious']"
      ]
     },
     "execution_count": 22,
     "metadata": {},
     "output_type": "execute_result"
    }
   ],
   "source": [
    "sent[tree_edge.start():tree_edge.end()]"
   ]
  },
  {
   "cell_type": "markdown",
   "metadata": {},
   "source": [
    "# Data\n",
    "A non-exhaustive list of treebanks for English and non-English languages:\n",
    " - https://en.wikipedia.org/wiki/Treebank#Syntactic_treebanks"
   ]
  }
 ],
 "metadata": {
  "kernelspec": {
   "display_name": "Python 3",
   "language": "python",
   "name": "python3"
  },
  "language_info": {
   "codemirror_mode": {
    "name": "ipython",
    "version": 3
   },
   "file_extension": ".py",
   "mimetype": "text/x-python",
   "name": "python",
   "nbconvert_exporter": "python",
   "pygments_lexer": "ipython3",
   "version": "3.7.4"
  }
 },
 "nbformat": 4,
 "nbformat_minor": 2
}
